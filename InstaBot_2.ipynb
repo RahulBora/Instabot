{
 "cells": [
  {
   "cell_type": "markdown",
   "metadata": {},
   "source": [
    "\n",
    "# 1. Now your friend has followed a lot of different food bloggers, he needs to analyse the habits of these bloggers.\n",
    "        1. From the list of instagram handles you obtained when you searched ‘food’ in previous project. Open the first 10                  handles and find the top 5 which have the highest number of followers.\n",
    "       "
   ]
  },
  {
   "cell_type": "code",
   "execution_count": 1,
   "metadata": {},
   "outputs": [],
   "source": [
    "from selenium import webdriver as wb\n",
    "from bs4 import BeautifulSoup as bs\n",
    "import requests\n",
    "import time\n",
    "\n",
    "path='C:/Users/RAHUL/Documents/Web_Scrapping/Insta-Bot-2/chromedriver'\n",
    "driver=wb.Chrome(executable_path=path)\n",
    "driver\n",
    "driver.maximize_window()"
   ]
  },
  {
   "cell_type": "code",
   "execution_count": null,
   "metadata": {},
   "outputs": [],
   "source": [
    "def user_login(u_name,password):\n",
    "    url='https://www.instagram.com/'\n",
    "    driver.get(url)\n",
    "    driver.implicitly_wait(3)\n",
    "    username=driver.find_element_by_name(name='username')\n",
    "    username.send_keys(u_name)\n",
    "    pswd=driver.find_element_by_name(name='password')\n",
    "    pswd.send_keys(password)\n",
    "    try:\n",
    "        a=driver.find_element_by_class_name('sqdOP  ')\n",
    "        a.submit()\n",
    "        Not_now=driver.find_element_by_class_name('cmbtv')\n",
    "        Not_now.click()\n",
    "        time.sleep(2)\n",
    "        off_notification=driver.find_element_by_class_name('aOOlW.HoLwm')\n",
    "        off_notification.click()\n",
    "    except:\n",
    "        print(\"Please check your entered username or password one of them is incorrect\")\n",
    "    \n",
    "u_name=input()\n",
    "password=input()\n",
    "user_login(u_name,password)"
   ]
  },
  {
   "cell_type": "code",
   "execution_count": 3,
   "metadata": {},
   "outputs": [
    {
     "name": "stdout",
     "output_type": "stream",
     "text": [
      "{'foodnetwork': (10433682, 'https://www.instagram.com/foodnetwork/'), 'yourfoodlab': (1337178, 'https://www.instagram.com/yourfoodlab/'), 'delhi_streets_food': (29175, 'https://www.instagram.com/delhi_streets_food/'), '_.food_nation._': (2122, 'https://www.instagram.com/_.food_nation._/'), 'foody_india_only_': (66, 'https://www.instagram.com/foody_india_only_/'), 'food': (63897, 'https://www.instagram.com/food/'), 'bhagwaankepakwaan': (809, 'https://www.instagram.com/bhagwaankepakwaan/'), 'ynmfoodie': (15, 'https://www.instagram.com/ynmfoodie/'), 'khaaaaaate_rahooo': (46, 'https://www.instagram.com/khaaaaaate_rahooo/'), 'petfoodsinfo': (1139, 'https://www.instagram.com/petfoodsinfo/')}\n"
     ]
    }
   ],
   "source": [
    "\n",
    "#function to enter search keywords in search field\n",
    "def search(value):\n",
    "    srch=driver.find_element_by_class_name('XTCLo ')\n",
    "    srch.send_keys(value)\n",
    "\n",
    "value='food'\n",
    "search(value) # search for Food\n",
    "\n",
    "time.sleep(3)\n",
    "try:\n",
    "    li=driver.find_elements_by_css_selector(\"a.yCE8d  \")\n",
    "    url=[]\n",
    "    for i in li[:10]:\n",
    "        url.append(i.get_attribute('href'))\n",
    "\n",
    "    # create a dictionary d which will store the top 10 handle names from search as keys and there \"followers count\" and \"url\"\n",
    "    # as tuple values\n",
    "    d={}\n",
    "    url_list=[]\n",
    "    for i in url:\n",
    "        if 'explore' not in i:\n",
    "            driver.get(i)\n",
    "            time.sleep(3)\n",
    "            profile_name= driver.find_element_by_css_selector('div.nZSzR h2').get_attribute('innerHTML')\n",
    "            followers_count=driver.find_element_by_css_selector('a.-nal3 span').get_attribute('title')\n",
    "            if profile_name not in d:\n",
    "                d[profile_name]= (int(followers_count.replace(',','').strip()),i)\n",
    "                \n",
    "    #printing the dictionary\n",
    "    print(d)\n",
    "     \n",
    "except:\n",
    "    print(\"Something went wrong\")"
   ]
  },
  {
   "cell_type": "code",
   "execution_count": 4,
   "metadata": {},
   "outputs": [
    {
     "name": "stdout",
     "output_type": "stream",
     "text": [
      "foodnetwork : 10433682 and url: https://www.instagram.com/foodnetwork/\n",
      "yourfoodlab : 1337178 and url: https://www.instagram.com/yourfoodlab/\n",
      "food : 63897 and url: https://www.instagram.com/food/\n",
      "delhi_streets_food : 29175 and url: https://www.instagram.com/delhi_streets_food/\n",
      "_.food_nation._ : 2122 and url: https://www.instagram.com/_.food_nation._/\n"
     ]
    }
   ],
   "source": [
    "#sorting the dictionary d keys (user profiles) in descending order on the basis of their followers count\n",
    "\n",
    "sorted_dict=sorted(((value,key) for (key,value) in d.items()), reverse=True)\n",
    "\n",
    "#saving top 5 user profiles with most followers in the sorted_dict along with the followers count and their insta handles\n",
    "for i in sorted_dict[:5]:\n",
    "    print(i[-1],\":\",i[-2][0],\"and url:\",i[-2][1])"
   ]
  },
  {
   "cell_type": "markdown",
   "metadata": {},
   "source": [
    "2. Now Find the number of posts these handles have done in the previous 3 days."
   ]
  },
  {
   "cell_type": "code",
   "execution_count": 5,
   "metadata": {},
   "outputs": [
    {
     "name": "stdout",
     "output_type": "stream",
     "text": [
      "Number of posts made in previous 3 days by foodnetwork : 20\n",
      "Number of posts made in previous 3 days by yourfoodlab : 1\n",
      "Number of posts made in previous 3 days by food : 6\n",
      "Number of posts made in previous 3 days by delhi_streets_food : 1\n",
      "Number of posts made in previous 3 days by _.food_nation._ : 2\n"
     ]
    }
   ],
   "source": [
    "from selenium.webdriver.support.ui import WebDriverWait\n",
    "from selenium.webdriver.support import expected_conditions as EC\n",
    "from selenium.webdriver.common.by import By\n",
    "import arrow\n",
    "import datetime\n",
    "\n",
    "\n",
    "#let's initialize a list to store the total count of the posts made by each user in previous 3 days \n",
    "post_count=[]\n",
    "for i in sorted_dict[:5]:\n",
    "    driver.get(i[-2][1])\n",
    "    \n",
    "    # clciking on the first post\n",
    "    post= driver.find_element_by_class_name('_9AhH0')\n",
    "    post.click()\n",
    "    \n",
    "    date_time= driver.find_element_by_css_selector('a.c-Yi7 time' )\n",
    "    post_date= date_time.get_attribute('datetime')[:10]\n",
    "    pd=arrow.get(post_date)\n",
    "    cd=arrow.get(datetime.date.today())\n",
    "    diff=cd-pd\n",
    "    \n",
    "    count=0\n",
    "    \n",
    "    # if post is 3 days old then add 0 to the list post count\n",
    "    if diff.days>3:\n",
    "        post_count.append(count)\n",
    "        print(\"Number of posts made in previous 3 days by\",i[-1],\":\",count)\n",
    "        \n",
    "    #else counting the no of posts which are posted in previous 3 days   \n",
    "    else:\n",
    "        count+=1\n",
    "        while True:\n",
    "\n",
    "            time.sleep(1.2)\n",
    "            \n",
    "            # going to next post by clicking on > icon in the popup frame\n",
    "            next_img= driver.find_element_by_xpath(\"//a[contains(@class,'_65Bje  ')]\")\n",
    "            next_img.click()\n",
    "\n",
    "            date_time= driver.find_element_by_css_selector('a.c-Yi7 time' )\n",
    "            post_date= date_time.get_attribute('datetime')[:10]\n",
    "            pd=arrow.get(post_date)\n",
    "            cd=arrow.get(datetime.date.today())\n",
    "            diff=cd-pd\n",
    "            \n",
    "            # breaking out of the loop if posted date is 3 days before from today\n",
    "            if diff.days>=3:\n",
    "                break\n",
    "            else:\n",
    "                count+=1\n",
    "        post_count.append(count)\n",
    "        print(\"Number of posts made in previous 3 days by\",i[-1],\":\",count)\n",
    "        time.sleep(1)"
   ]
  },
  {
   "cell_type": "markdown",
   "metadata": {},
   "source": [
    "3. Depict this information using a suitable graph."
   ]
  },
  {
   "cell_type": "code",
   "execution_count": 6,
   "metadata": {},
   "outputs": [
    {
     "data": {
      "image/png": "[encoded data removed]",
      "text/plain": [
       "<Figure size 432x288 with 1 Axes>"
      ]
     },
     "metadata": {
      "needs_background": "light"
     },
     "output_type": "display_data"
    }
   ],
   "source": [
    "import matplotlib.pyplot as plt\n",
    "\n",
    "x=[]\n",
    "for i in sorted_dict[:5]:\n",
    "    x.append(i[-1])\n",
    "\n",
    "plt.title('Users vs No. of posts', color='green')\n",
    "plt.xlabel(\"Users\", color='green')\n",
    "plt.ylabel(\"Number of posts in previous 3 days\", color='green')\n",
    "plt.bar(x,post_count, width=0.51)\n",
    "plt.xticks(rotation=20, color='red')\n",
    "plt.show()\n"
   ]
  },
  {
   "cell_type": "markdown",
   "metadata": {},
   "source": [
    "# 2. Your friend also needs a list of hashtags that he should use in his posts.\n",
    "        1. Open the 5 handles you obtained in the last question, and scrape the content of the first 10 posts of each \n",
    "        handle.\n",
    "        2. Prepare a list of all words used in all the scraped posts and calculate the frequency of each word.\n",
    "   "
   ]
  },
  {
   "cell_type": "code",
   "execution_count": 7,
   "metadata": {
    "scrolled": false
   },
   "outputs": [
    {
     "name": "stdout",
     "output_type": "stream",
     "text": [
      "{'foodnetwork': [\"This Quick-Marinated Cherry Tomato Salad only takes 10 minutes to make! (As if you need another excuse to make it 👏) \\u2060\\u2060Click the link in our bio to get @thepioneerwoman's recipe.\", '5 Major Chicken MistakesRule #1: Never, ever rinse your chicken before cooking 😬😳', \"What's your #DDD binge record?Don't miss a flavor-packed evening of #DDD with @GuyFieri beginning at 6|5c!\", \"@BobbyFlay's crunchy avocado salad is the perfect side for a summer BBQ! 🥑\\u2060\\u2060Don't miss the next round of the #Chopped: Beat Bobby Flay tournament > Sunday 9|8c.\\u2060\\u2060Click the link in our bio to get the recipe!\", 'What could go wrong in the kitchen? \"I\\'m scared you\\'re going to be the old nine-fingered Schumer.\" 🤣🤣 Chef Chris and @AmySchumer give us the scoop on #AmySchumerLearnsToCook. Watch NEW episodes on Monday at 10|9c!', 'Recipe of the Day: Smoky Caprese Bread Bowl 🍅 Click the link in our bio to get the recipe!', 'Double Chocolate Red Wine Bundt Cake (with @giadadelaurentiis)Happy birthday to the one and only, @giadadelaurentiis! You deserve all of the chocolate and wine today (and every day!) 🍷🍫Get the recipe for Double Chocolate Red Wine Bundt Cake on FoodNetwork.com!', 'Bacon and Egg Breakfast Pizza 💯Pizza becomes an A-OK morning meal when you top it with a gorgeous sunny-side egg 🍳🍕 We like the way you think, @SunnyAnderson!#TheKitchen > Saturdays @ 11a|10cGet the recipe on FoodNetwork.com!', \"Your JUICER is the best-kept secret for perfectly crispy cauliflower crust pizza 🍕(It removes the excess liquid so it's never too soggy!)\\u2060. . .\\u2060Click the link in our bio to get the recipe for Juicer Cauliflower Crust!\", \"How to Make Jicama Tortillas (with @missvivianwc) 🌮Want to make your tacos low-carb? You can actually sub in JICAMA for tortillas!Watch this week's #VivsTips, then catch @MissVivianWC cook Shrimp Tacos with Mango Slaw and Jicama Tortillas LIVE Monday at 6|5c on the @FoodNetworkKitchen app 👍Get the recipe on FoodNetwork.com!\"], 'yourfoodlab': ['Mumbai Style Veg Frankie Recipe is out now on Facebook & YouTube! Check it now! One of my most favourite street foods.I have uploaded many versions of Frankies in the past few years & its no surprise that you guys love all of them. Growing up in Mumbai has made me fall in so many street foods & Frankie would be amongst the top. I have uploaded this version too before but it did not have the Frankie masala & the special Frankie chutney recipe which are a must for getting this recipe right at home. Also the refined flour slurry which is added onto the patty (That is my moms trick but later on I saw that the Frankie vendors do it too) that is also included which is optional. That is why I decided to reshoot this after 3 years with more detail & you would find a good difference in the video presentation as well.Frankie is always on the top of the list of most requested recipes & Frankie is always one of my go to street foods & I usually love the chicken version but when ever I want to go for the veg version the basic veg Frankie with the aloo patty along with some schezwan & cheese is my personal favourite. I have included the base recipe for the veg Frankie & I have also included some basic additions like cheese, schezwan & schezwan cheese Frankie (I did not want to miss out on my favourite version 😂🙈) So enjoy the recipe, it’s perfect for the weather & I am sure you guys will love it....#recipe #foodiesofinstagram #indianfood #frankie #mumbaistreetfood #mumbaifoodie #mumbaikar #rolls #sanjyotkeer', \"Chur Chur Naan in Microwave oven Chef Sanjyot Keer #morphyrichards....Contest Alert! CookWithATwist with @morphyrichardsindiaHello people! Hope you are enjoying the monsoon weather and with that, comes an exciting contest! Race to your kitchen and show us your twist on a recipe of your choice and stand a chance to win an exquisite Morphy Richards Microwave Oven.To enter the contest –1. Cook a recipe of your choice with an innovative twist.2. Take an amazing original photo of your finished dish and upload the photo on your Facebook & Instagram handle tagging @morphyrichardsindia & @yourfoodlab & use the hashtag #CookWithATwist3. Follow @morphyrichardsindia and @yourfoodlab4. Make sure you mention your 'Twist' of the recipe in the caption. Only three winners with the craziest twist stand a chance to win Contest ends on 1st of September, 2020! So Hurry up! Get creative and show us your version of #CookWithATwistT&C apply* : https://www.morphyrichardsindia.com/tnc.aspx...#stayhome #staysafe #foodie #indiancuisine #contestalert #sanjyotkeer #MorphyRichards #CookWithATwist\", 'Instant Mawa Modak without mould by Chef @sanjyotkeer..I was receiving so many requests for a simple modak recipe that too without a mould because in this lockdown situation getting too many ingredients and finding a mould could get difficult! I did some trials and here it is, my easiest recipe with milk powder and basic ingredients. The recipe does not require a mould and in fact the modaks turn out much better than ones made in a mould.As a kid I always celebrated this festival with so much enthusiasm, I used to wait for the festival to arrive and throughout the 10 odd days, it used to be such a holy feeling I can’t explain through words. The society I used to live in before, all of us kids used to organize the festive celebrations, those memories are so so precious to me.I was just remembering those moments while making these modaks and I just pray to god for everyone because we all need it the most while fighting against the pandemic.Celebrate this Ganesh utsav very safely, be careful and maintain social distancing. May god bless us all! I hope you will love this recipe and the video presentation. I would love to see your modak pictures! Do send them to me. Happy Ganesh Utsav to all!....#modak #ganeshutsav #shreeganesh #foodie #foodphotography #foodofinstagram #mumbaiganpati #sanjyotkeer #instadaily #recipeoftheday', 'Instant Mawa Modak without mould recipe video is out now on Facebook & YouTube!I was receiving so many requests for a simple modak recipe that too without a mould because in this lockdown situation getting too many ingredients and finding a mould could get difficult! I did some trials and here it is, my easiest recipe with milk powder and basic ingredients. The recipe does not require a mould and in fact the modaks turn out much better than ones made in a mould.As a kid I always celebrated this festival with so much enthusiasm, I used to wait for the festival to arrive and throughout the 10 odd days, it used to be such a holy feeling I can’t explain through words. The society I used to live in before, all of us kids used to organize the festive celebrations, those memories are so so precious to me.I was just remembering those moments while making these modaks and I just pray to god for everyone because we all need it the most while fighting against the pandemic.Celebrate this Ganesh utsav very safely, be careful and maintain social distancing. May god bless us all! I hope you will love this recipe and the video presentation. I would love to see your modak pictures! Do send them to me. Happy Ganesh Utsav to all!....#modak #ganeshutsav #shreeganesh #foodie #foodphotography #foodofinstagram #mumbaiganpati #sanjyotkeer #instadaily #recipeoftheday', 'Cooking some Dhaba style Soya chaap masala in the lab! Excited for this one ❤️', 'Mumbai Style Sandwich by Chef @sanjyotkeerAs a kid I have grown up in Mumbai and there would not be a single week were I haven’t had a sada sandwich or a toast sandwich. Followed by a bread butter chutney and that extra piece of boiled potato with some sandwich masala😜. I remember so many conversations which have happened over these sandwiches 🙈 so many memories and as a kid I used to try and replicate the recipe at home. I still remember telling mom to buy me the street style toaster and I used to try and make this recipe at home just like how the really talented sandwich chefs did it on the streets.This recipe is a result of so many trials and it took me quite a while to crack the sandwich masala and the perfect chutney recipe! So enjoy this one and I am sure you all will love it!!!!! The famous “Bombay Masala Toast Sandwich” will also be our soon! So stay tuned for it!P.S: this recipe is really close to my heart just like the pav bhaji recipe, lots of nostalgia! I dedicate this one to my sister because it’s her favorite too! I am sure you are going to crave for this once you watch this video @anishabachher ❤️', \"Quick & easy Toasties - 4 ways Microwave Oven Chef @sanjyotkeerContest Alert! CookWithATwist with @morphyrichardsindiaHello people! Hope you are enjoying the monsoon weather and with that, comes an exciting contest! Race to your kitchen and show us your twist on a recipe of your choice and stand a chance to win an exquisite Morphy Richards Microwave Oven.To enter the contest –1. Cook a recipe of your choice with an innovative twist.2. Take an amazing original photo of your finished dish and upload the photo on your Facebook & Instagram handle tagging @morphyrichardsindia & @yourfoodlab & use the hashtag #CookWithATwist3. Follow @morphyrichardsindia and & @yourfoodlab4. Make sure you mention your 'Twist' of the recipe in the caption. Only three winners with the craziest twist stand a chance to win Contest ends on 1st of September, 2020! So Hurry up! Get creative and show us your version of #CookWithATwistT&C apply* : https://www.morphyrichardsindia.com/tnc.aspx#stayhome #staysafe #foodie #indiancuisine #contestalert #contestalert #sanjyotkeer #MorphyRichards #CookWithATwist\", 'My Mumbai Style Sandwich Recipe is out now on Facebook & YouTube! Really excited about this one because this is one of my favorite recipes.As a kid I have grown up in Mumbai and there would not be a single week were I haven’t had a sada sandwich or a toast sandwich. Followed by a bread butter chutney and that extra piece of boiled potato with some sandwich masala😜. I remember so many conversations which have happened over these sandwiches 🙈 so many memories and as a kid I used to try and replicate the recipe at home. I still remember telling mom to buy me the street style toaster and I used to try and make this recipe at home just like how the really talented sandwich chefs did it on the streets.This recipe is a result of so many trials and it took me quite a while to crack the sandwich masala and the perfect chutney recipe! So enjoy this one and I am sure you all will love it!!!!! The famous “Bombay Masala Toast Sandwich” will also be our soon! So stay tuned for it!P.S: this recipe is really close to my heart just like the pav bhaji recipe, lots of nostalgia! I dedicate this one to my sister because it’s her favorite too! I am sure you are going to crave for this once you watch this video @anishabachher ❤️....#recipe #foodie #sandwiches #sandwichesofinstagram #bombaysandwich #foodiesofinstagram #foodpics #foodlover #cravings #streetfood', 'Chinese pocket samosa by Chef @sanjyotkeer...Chinese pocket samosa holds a very special place in my heart! I remember visiting my local farsanwala to stock up on snacks for my house and everytime we visited him, I remember the farsanwala handing us a couple of Chinese pocket samosas for free. It used to be a routine for us. Last week my family and I were having a random conversation about my neighbourhood and I instantly remembered this nostalgic memory of having free Chinese pocket samosas at my farsanwala! I know this recipe is very similar to spring roll recipe that I have done before, but just the fact that its squarish in size and has this special place in my heart made me shoot this recipe. Comment down below with your special childhood recipes and lets see if I can recreate some of your favourite recipes next! Cheers guys. Have fun :)...#recipe #foodie #indiancuisine #streetfood #comfortfood', \"Khaman Dhokla Recipe in Microwave Oven Soft & Spongy Chef @sanjyotkeerContest Alert! CookWithATwist with @morphyrichardsindia Hello people! Hope you are enjoying the monsoon weather and with that, comes an exciting contest! Race to your kitchen and show us your twist on a recipe of your choice and stand a chance to win an exquisite Morphy Richards Microwave Oven. To enter the contest - 1. Cook a recipe of your choice with an innovative twist.2. Take an amazing original photo of your finished dish and upload the photo on your Facebook & Instagram handle tagging @morphyrichardsindia & @yourfoodlab & use the hashtag #CookWithATwist3. Follow @MorphyRichardsindia and @yourfoodlab4. Make sure you mention your 'Twist' of the recipe in the caption.  Only three winners with the craziest twist stand a chance to win Contest ends on 1st of September, 2020!So Hurry up! Get creative and show us your version of #CookWithATwist T&C apply*...#stayhome #staysafe #foodie #indiancuisine #contestalert #contestalert #sanjyotkeer #MorphyRichards  #CookWithATwist\"], 'food': ['Woah... @thenaughtyfork \\u2060\\u2060\\u2060\\u2060#pizza #italianfood #burrata #cheese #sauce #yum #italian #foodporn #truffleoil #whitetruffle', 'Mac & cheese fries 🤩 who wants??Tag who you’d try this with 🤤🤤🍟Credit to Eeha Kulkarni#food #foodphotography #foodiesofinstagram #foodporn #macandcheese #weekend #eat #lifestyle #foodblogger #delicious #goodfood #cheese #foodlover', 'May your weekend be as beautiful as this Beet Hummus, Mint Chimichurri & Feta toast by @saratane \\u2060\\u2060\\u2060\\u2060#toast #beets #beethummus #mint #chimichurri #feta #cheese #yum #foodporn #foodart #weekend', 'This lineup though 🙌🏽 @caposouthbos\\u2060\\u2060\\u2060#drinks #cocktails #happyhour #cheers #capo #caposouthbos #southie #boston #weekend', 'Pizza hits different on Fridays, amirite? @mikejchau\\u2060\\u2060\\u2060\\u2060#pizza #pepperoni #pepperonipizza #cheese #sauce #nyc #nycfood #newforkcity #eater #food #yum #friday #friyay', 'Extra cheese anyone?? 🧀🤯⚠️-Tag a burger lover 🍔-Credit: Wingfix Brisbane#🍔 #burger #burgers #foodie #burgerporn #foodporn #breakfast #cheeseburger #burgraphy #dailyfoodfeed #bestfoodworld #buzzfeast #maplebacon #lovefood #burgerorder #burgersofinstagram #cheese #foodiesofinstagram', 'Are you into chilled soups? Try this Cucumber Avocado Soup by @picklesandhoney \\u2060\\u2060\\u2060\\u2060#gazpacho #chilledsoup #soup #cucumber #avocado #summer #food #recipe #plantbased #vegan', 'Churro Ice Cream Sandwich? Yes, please!!! @boston_mouthful\\u2060\\u2060\\u2060#churros #churro #icecream #dessert #bostoneats #boston #food #yum #foodporn', '@boucherienyc is open for outdoor dining so you can have the dinner you deserve (Steak Frites, obviously) 😏\\u2060\\u2060\\u2060#steak #steakfrites #boucherie #boucherienyc #nycfood #newforkcity #outdoordining #french #frenchfood #fries', 'Tomato szn 😍 @savoringtheflavoring\\u2060\\u2060\\u2060#tomato #tomatoes #burrata #pesto #jalapeno #balsamic #yum #tomatoszn #food'], 'delhi_streets_food': ['Chaap is one of the favourite Vegetarian dishes 😍So I here is one more option👆🏻 for them is ACHAARI CHAAP ROLL 🤩The khatta taste of achaar and softness of chaap 🤤 make it amazing 🤗.Tell me in comment section 💭 how you find this post 🖼️.Follow @delhi_streets_foodUse #foodieashwani', 'Bhaiya aaj h khane😄Mein zaikedar masaledar 🥺bna Kadhai Paneer😋 te naram naram Roti 😍..Saareya nu Post👇🏻 kidda lgi Batana zarur 😃.Or follow bhi kr hi leyo ji👇@delhi_streets_food@delhi_streets_food.#kadhaipaneer #chillipaneer #roti #paneer #homefood #homemade #dillifoodies #bhfyp#pride🌈 #pridemonth #pride #loveislove #love #foodlover #foodblogger #like4likes #likeforlikes #likes4like #likeforlikeback #followtrain #streetfood #foodphotography #v #all_shots #healthyfood #instayum #instagood #instafood #foodieashwani #tasty @thisisdelhi @zingyzest @kuljyoti.dhingra @dinner @lbbdelhincr', 'Din ki shuruat ☀ dilli walo ke liye CHOLE BHATURE se hi hoiti h 😌.Garma Garma tail se nikale😅 yeh bhature chatpate cholo ke Saath tayaar h 😋.Aap logo ke breakfast me kya h 🤪.Follow @delhi_streets_food for more updatesUse #foodieashwani to get featured.#cholebhature #delhite #delhifoodblog #breakfast #foodporn #foodie #food #foodpornshare #mumbai_in_clicks #mumbaiscenes #newdelhi #delhifoodwalks #delhifood #foodlovers #foodieforlife #foodinspiration #instafood #instagood #instayum #healthy #like4likes #likeforlikes #likes4like #likeforlike #likelike #breakfastideas #breakfasttime #morning #delhistreetfood@kuljyoti.dhingra @foodiesince96 @zingyzest @foodie_incarnate @dillifoodies', 'Nashta Hai janab😍.Rajma, Chawal, aloo naan, Raita, Salad.Follow @delhi_streets_foodUse #foodieashwaniTiktok foodieashwani.#rajmachawal #delhigram #newdelhi #dilsefoodie #foodiesince96 #foodiejunkie #khaugalli #pizza #northindia #northindianfood #like4likes #likeforlikes #likes4like #likes4like #like4follow #like #likeit #followforfollowback #follow #likelike #likeforlikeback #naan #all_shots #al #all #pridemonth #pride #desikhana #desifood #desifoodie@kuljyoti.dhingra @thisisdelhi @instagram @dilsefoodie @zingyzest', 'ACHARI CHAAP ROLL 🤩The thin roti served with 😋 delicious and creamy Chaap 😍 Served with some tempting chutney wale pyaaz \\U0001f9c5.Who alll are roll lovers. ❤️.📍 Khanna Tandoori junction, krishna nagar.#dilliwale #dilsefoodie #chaap #paneer #sunnyleone #miakhalifa #streetfood #foodies #foodiesince96 #foodaddict #delhigram #foodgasm #healthy #starter #dillifoodies #foodbloggers #instagood #instafood #eeeeeats #bhfyp #kolkata #pune #punefoodie #foodphotography #foodism #like4likes #mumbaikar #mumbaifoodlovers #mumbaifoodie #love@kuljyoti.dhingra @zingyzest @foodiesince96 @dilsefoodie @dillifoodies', 'Delicious😋 Cheese🧀 overloaded pizza🍕 and Garlic Bread 🥐 . The melted cheese on pizza😌 with crispy crust🤩 and tempting sauce 🤤is everything i called love ❤️.In Frame Pizza 🍕Garlic Bread🥐.Tag your pizza lover friend to make them craved for it.🙈.Follow @delhi_streets_foodUse #foodieashwani.#pizza #garlicbread #fries #cheese #cheesepizza #socheesy #love #pride🌈 #pride #pridemonth #loveislove #indianstreetfood #delhistreetfood #dominos #dominospizza #pizzalove #streetfood #delhigram #delhigram #desikhana #desifood #like4likes #likeforlikes #likeforlike #likelike #loveyou #italianfood #italian #followｍe #comments@kuljyoti.dhingra @zingyzest @dilsefoodie @dillifoodies @foodiesince96', 'Margherita pizza with double cheese🤓.Follow @delhi_streets_food for more updates.#pizza #margheritapizza #pizzalove #pizzatime #cheese@kuljyoti.dhingra @foodiesince96 @zingyzest @dillifoodies @dilsefoodie', 'The delicious street kulcha roll🤩one of the cheapest 🤑and satisfying street food 😍.Tag the roll lovers to ask them out for this breakfast 🤗.Follow @delhi_streets_foodUse #foodieashwani', \"This plates is for my pure vegetarian friends👬🏻 Who wish to have non veg but they can't 😂 Perfect authentic taste and texture 😍.In frame are Veg chicken rara , Veg anda curry😋 well served with salad and tandoori roti 😃 .it was funtastic 🙈.Do you guys loved it?.Follow @delhi_streets_foodTiktok foodieashwani.#vegeggcurry #eggcurry #vegbutterchicken@kuljyoti.dhingra @foodiesince96 @zingyzest @dilsefoodie @dilsefoodie @curly.tales\", 'Rescue to evening hunger, you can eat Maggi any time. via. Maggi makes you smile, more than your lover.❤️.In Frame :CARRY MINATI MAGGI 😍.Maggi is a dish which sets in any flavour and texture 😌.Follow @delhi_streets_foodUse #foodieashwani'], '_.food_nation._': ['Thank you so much guys today we reached the family of 2kKeep your love same for future also', 'Modak......................................Like, comment and shareFollow @_.food_nation._Dm to collaborate.....#modak #ganesha #ganeshchaturthi #love #travel #blogger #reviewer #review #influencer #photography', '💥Product Review 💥...................................Receive this \"Phab Belgian Choclate Protein Powder \" from @getphabThis protein powder helps you to Boost your immunity. This protein powder is associated with 13 essential daily vitamins. Contains low calorie & low carb. Zero added sugar and protein content is 23.1g (per serving) which is very high as compared to others.Highlights:✴️ Protein rich 23.1g (per serving)✴️ Zero added sugar✴️No trans fat & no preservation✴️ Boosts immunity✴️ 13 essential daily vitamins✴️ Low calorie & low carbRatings:Packaging : ⭐️⭐️⭐️⭐️⭐️Flavour : ⭐️⭐️⭐️⭐️⭐️Overall : ⭐️⭐️⭐️⭐️⭐️You can buy it from Amazon. And also DM @getphab for your order.Follow @_.food_nation._#protein #proteinpowder #blogger #getphab #fashion #photography #instagram #love #travel #instagood #fashionblogger #foodblogger #india #indian #classyy #productreview #reviews', \"Bread Roll'sLike, comment and shareDm to collaborate with us#bread #breadrolls #breadroll #food #blogger #reviewer #indianreviewer #love #sauce #chutney #lifestyle\", '*Chawsela*.....Dm to collaborate.......#chawsela #chawal#madeathome#healthy #health #food #foody #love #blogger #reviewer #lifestyle', 'Happy Independence DayTo all of u', 'Malai kofta....Dm to collaborate .....#food #foddie #malaikofta #kofta #healthy #madeathome #love #healthy #blogger #influencer #reviewer', 'Thanku guys for your love and support', '\"Patra\" made by mom#patra #gujrati #food #foodislove #health #healthy #blogger #reviewer', '\"Pani puri\" + \"Dahi puri\"#golgappe #panipuri #dahipanipuri #dahi #blogger #influencer #reviewer']}\n"
     ]
    }
   ],
   "source": [
    "import matplotlib.pyplot as plt\n",
    "from bs4 import BeautifulSoup as bs\n",
    "\n",
    "\n",
    "# initialize a dictionary to store the user profiles as key and all scrapped conted as their values\n",
    "d1={}\n",
    "\n",
    "for i in sorted_dict[:5]:\n",
    "    li=[]\n",
    "    driver.get(i[-2][1])\n",
    "    \n",
    "    #clicking on the first post\n",
    "    post= driver.find_element_by_class_name('_9AhH0')\n",
    "    post.click()\n",
    "    \n",
    "    #waiting a little so that the post can be open within a popup:\n",
    "    time.sleep(2)\n",
    "    \n",
    "    caption=driver.find_element_by_xpath('//div[contains(@class,\"C4VMK\")]/span')\n",
    "    \n",
    "    #appending scrapped content in the list \"li\" \n",
    "    li.append(caption.text.replace('\\n\\n','').replace('\\n',''))\n",
    "    \n",
    "    #repeating the process for next 9 posts\n",
    "    for k in range(9):\n",
    "        next_img= driver.find_element_by_xpath(\"//a[contains(@class,'_65Bje  ')]\")\n",
    "        next_img.click()\n",
    "        \n",
    "        wait=WebDriverWait(driver,10)\n",
    "        caption=wait.until(EC.presence_of_element_located((By.XPATH,\"//div[contains(@class,'C4VMK')]/span\")))\n",
    "        li.append(caption.text.replace('\\n\\n','').replace('\\n',''))\n",
    "        \n",
    "    d1[i[-1]]=li\n",
    "print(d1)"
   ]
  },
  {
   "cell_type": "code",
   "execution_count": 8,
   "metadata": {
    "scrolled": false
   },
   "outputs": [],
   "source": [
    "\n",
    "#initialize a dictionary d2 which will have all words from scrapped content as keys and\n",
    "#their frequency as the values\n",
    "\n",
    "d2={}\n",
    "for val in d1.values():\n",
    "    for i in val:\n",
    "        for k in i.split(' '):\n",
    "            d2[k]=d2.get(k,0)+1\n"
   ]
  },
  {
   "cell_type": "markdown",
   "metadata": {},
   "source": [
    " 3. Create a csv file with two columns : the word and its frequency"
   ]
  },
  {
   "cell_type": "code",
   "execution_count": 9,
   "metadata": {},
   "outputs": [],
   "source": [
    "import pandas as pd\n",
    "\n",
    "#saving the dictionary content to a csv file \n",
    "(pd.DataFrame.from_dict(data=d2, orient='index')\n",
    "   .to_csv('dict_file.csv', header=False))"
   ]
  },
  {
   "cell_type": "markdown",
   "metadata": {},
   "source": [
    "4. Now, find the hashtags that were most popular among these bloggers.\n",
    "5. Plot a Pie Chart of the top 5 hashtags obtained and the number of times they were used by these bloggers in the                  scraped posts."
   ]
  },
  {
   "cell_type": "code",
   "execution_count": 10,
   "metadata": {},
   "outputs": [
    {
     "data": {
      "image/png": "[encoded data removed]",
      "text/plain": [
       "<Figure size 432x288 with 1 Axes>"
      ]
     },
     "metadata": {},
     "output_type": "display_data"
    }
   ],
   "source": [
    "\n",
    "# reading the data from the csv file\n",
    "path='C:/Users/RAHUL/Documents/Web_Scrapping/Insta-Bot-2/dict_file.csv'\n",
    "data=pd.read_csv(path,encoding='utf-8', header=None)\n",
    "\n",
    "#adding columns to the csv file\n",
    "data.columns = [\"Words\", \"Count\"]\n",
    "df=data.copy()\n",
    "\n",
    "# sort the table data in descending order such that mostly used tags can also be arranged in descending the data\n",
    "df=df.sort_values(by='Count', ascending=False)\n",
    "\n",
    "words,count=[],[]\n",
    "z=0\n",
    "\n",
    "# iterate over the data to find the top 5 mostly used tags\n",
    "for i in df.index:\n",
    "    if z==5:\n",
    "        break\n",
    "    w,c=df['Words'][i],df['Count'][i]\n",
    "    if '#' in str(w):\n",
    "        words.append(w)\n",
    "        count.append(c)\n",
    "        z+=1\n",
    "        \n",
    "        \n",
    "plt.pie(count, autopct='%.2f', labels=words)\n",
    "plt.title('Most used #tags', color='green')\n",
    "plt.show()"
   ]
  },
  {
   "cell_type": "markdown",
   "metadata": {},
   "source": [
    "# 3. You need to also calculate average followers : likes ratio for the obtained handles.\n",
    "    Followers : Likes ratio is calculated as follows:\n",
    "       1. Find out the likes of the top 10 posts of the 5 handles obtained earlier.\n",
    "       2. Calculate the average likes for a handle.\n",
    "       3. Divide the average likes obtained from the number of followers of the handle to get the average followers:like\n",
    "       ratio of each handle.\n"
   ]
  },
  {
   "cell_type": "code",
   "execution_count": 11,
   "metadata": {},
   "outputs": [
    {
     "name": "stdout",
     "output_type": "stream",
     "text": [
      "{'foodnetwork': [0.00026, 0.00135, 0.00035, 0.0005, 0.00038, 0.00128, 0.001, 0.00277, 0.00078, 0.00271], 'yourfoodlab': [0.02194, 0.0128, 0.03458, 0.02162, 0.01502, 0.02708, 0.01731, 0.02544, 0.02671, 0.01963], 'food': [0.00756, 0.0456, 0.01479, 0.02247, 0.02348, 0.04193, 0.02061, 0.02923, 0.03301, 0.02423], 'delhi_streets_food': [0.01762, 0.06677, 0.05231, 0.24511, 0.20021, 0.15465, 0.12213, 0.13467, 0.08106, 0.09827], '_.food_nation._': [0.09331, 0.15033, 0.09661, 0.15221, 0.14609, 0.06786, 0.1164, 0.10415, 0.10179, 0.11828]}\n"
     ]
    }
   ],
   "source": [
    "from selenium.webdriver.support.ui import WebDriverWait\n",
    "from selenium.webdriver.support import expected_conditions as EC\n",
    "from selenium.webdriver.common.by import By\n",
    "import matplotlib.pyplot as plt\n",
    "\n",
    "\n",
    "#function to get average likes on each post\n",
    "def get_average_like(followers_count):\n",
    "    \n",
    "    # if it's an image post then try block code will excute as it will have likes\n",
    "    try:\n",
    "        likes=driver.find_element_by_css_selector('div.Nm9Fw button span')\n",
    "        total_likes= int(likes.get_attribute('innerHTML').replace(',',''))\n",
    "        \n",
    "        return round(total_likes/followers_count,5)\n",
    "        \n",
    "    # else this block code will excute for the video post as it have views to click on finding the likes\n",
    "    except:\n",
    "        \n",
    "        wait=WebDriverWait(driver,10)\n",
    "        view_button=wait.until(EC.presence_of_element_located((By.XPATH,'//div[contains(@class,\"_9Ytll\")]/span')))\n",
    "        view_button.click()\n",
    "        \n",
    "        time.sleep(1)\n",
    "        likes=driver.find_element_by_css_selector(\"div.vJRqr span\")\n",
    "        total_likes= int(likes.get_attribute('innerHTML').replace(',',''))\n",
    "        \n",
    "        return round(total_likes/followers_count,5)\n",
    "\n",
    "# initializing a dictionary to store average of the average likes on the top 10 posts of the tops 5 handles\n",
    "# which has most subscribers and we found them from the the search results\n",
    "\n",
    "avg_like={}\n",
    "for i in sorted_dict[:5]:\n",
    "    average_likes=[]\n",
    "    driver.get(i[-2][1])\n",
    "    time.sleep(3)\n",
    "    \n",
    "    # saving the followers of each profile in followers_count\n",
    "    followers_count=i[-2][0]\n",
    "\n",
    "    \n",
    "    # performig click on the first post\n",
    "    wait=WebDriverWait(driver,12)\n",
    "    post=wait.until(EC.presence_of_element_located((By.CLASS_NAME,'_9AhH0')))\n",
    "    post.click()\n",
    "    \n",
    "    var=False\n",
    "    for m in range(10):\n",
    "        if var==False:\n",
    "            var=True\n",
    "            z=get_average_like(followers_count)\n",
    "            average_likes.append(z)\n",
    "            \n",
    "            \n",
    "        else:\n",
    "            next_img= driver.find_element_by_xpath(\"//a[contains(@class,'_65Bje  ')]\")\n",
    "            driver.execute_script(\"arguments[0].click();\", next_img)\n",
    "\n",
    "            z=get_average_like(followers_count)\n",
    "            average_likes.append(z)\n",
    "            \n",
    "    avg_like[i[-1]]=average_likes\n",
    "            \n",
    "print(avg_like)          \n",
    "            \n",
    "   "
   ]
  },
  {
   "cell_type": "markdown",
   "metadata": {},
   "source": [
    "3. Create a bar graph to depict the above obtained information."
   ]
  },
  {
   "cell_type": "code",
   "execution_count": 12,
   "metadata": {},
   "outputs": [
    {
     "data": {
      "image/png": "[encoded data removed]",
      "text/plain": [
       "<Figure size 432x288 with 1 Axes>"
      ]
     },
     "metadata": {
      "needs_background": "light"
     },
     "output_type": "display_data"
    }
   ],
   "source": [
    "\n",
    "profile_names,avg=[],[]\n",
    "for key,values in avg_like.items():\n",
    "    profile_names.append(key)\n",
    "    sum=0\n",
    "    for val in values:\n",
    "        sum+=val\n",
    "    avg.append(round(sum/10,3))\n",
    "\n",
    "plt.bar(profile_names,avg, color='pink')\n",
    "plt.xlabel('Profile names', color='green')\n",
    "plt.ylabel('Avg. of the avg likes on top 10 posts', color='green')\n",
    "plt.title('User profiles vs Average likes of their top 10 posts', color='green')\n",
    "plt.xticks(rotation=60)\n",
    "plt.show()\n"
   ]
  }
 ],
 "metadata": {
  "kernelspec": {
   "display_name": "Python 3",
   "language": "python",
   "name": "python3"
  },
  "language_info": {
   "codemirror_mode": {
    "name": "ipython",
    "version": 3
   },
   "file_extension": ".py",
   "mimetype": "text/x-python",
   "name": "python",
   "nbconvert_exporter": "python",
   "pygments_lexer": "ipython3",
   "version": "3.7.6"
  }
 },
 "nbformat": 4,
 "nbformat_minor": 4
}
